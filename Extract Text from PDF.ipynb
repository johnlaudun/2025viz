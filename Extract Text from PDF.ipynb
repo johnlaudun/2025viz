{
 "cells": [
  {
   "cell_type": "markdown",
   "id": "974e801c-4e81-4b8f-86ea-ba1444d30408",
   "metadata": {},
   "source": [
    "# Extract Text from PDF\n",
    "\n",
    "The first thing we need to do is get the text out of the PDF. Sadly, PDFs have no notion of actual text structure, so we cannot programmatically get out of any PDF its paragraphs and sections. All we have are words which become lines which become boxes which become pages. Text from one page to another? A novelty!"
   ]
  },
  {
   "cell_type": "markdown",
   "id": "017f4c3f-a41e-4383-996c-9428e81f9e99",
   "metadata": {},
   "source": [
    "## PyPDF"
   ]
  },
  {
   "cell_type": "code",
   "execution_count": 29,
   "id": "8ff386f7-5cbb-4922-a17e-3acf20565972",
   "metadata": {},
   "outputs": [
    {
     "name": "stderr",
     "output_type": "stream",
     "text": [
      "Xref table not zero-indexed. ID numbers for objects will be corrected.\n"
     ]
    },
    {
     "name": "stdout",
     "output_type": "stream",
     "text": [
      "\n",
      "    Information about 2025.pdf: \n",
      "\n",
      "    Author: None\n",
      "    Creator: Adobe InDesign 18.3 (Macintosh)\n",
      "    Producer: Adobe PDF Library 17.0\n",
      "    Subject: None\n",
      "    Title: None\n",
      "    Number of pages: 920\n",
      "    \n"
     ]
    },
    {
     "data": {
      "text/plain": [
       "{'/CreationDate': \"D:20230711123642-04'00'\",\n",
       " '/Creator': 'Adobe InDesign 18.3 (Macintosh)',\n",
       " '/ModDate': \"D:20230711123716-04'00'\",\n",
       " '/Producer': 'Adobe PDF Library 17.0',\n",
       " '/Trapped': '/False'}"
      ]
     },
     "execution_count": 29,
     "metadata": {},
     "output_type": "execute_result"
    }
   ],
   "source": [
    "from PyPDF2 import PdfFileReader\n",
    "\n",
    "def extract_information(pdf_path):\n",
    "    with open(pdf_path, 'rb') as f:\n",
    "        pdf = PdfFileReader(f)\n",
    "        information = pdf.getDocumentInfo()\n",
    "        number_of_pages = pdf.getNumPages()\n",
    "\n",
    "    txt = f\"\"\"\n",
    "    Information about {pdf_path}: \n",
    "\n",
    "    Author: {information.author}\n",
    "    Creator: {information.creator}\n",
    "    Producer: {information.producer}\n",
    "    Subject: {information.subject}\n",
    "    Title: {information.title}\n",
    "    Number of pages: {number_of_pages}\n",
    "    \"\"\"\n",
    "\n",
    "    print(txt)\n",
    "    return information\n",
    "\n",
    "extract_information(\"2025.pdf\")"
   ]
  },
  {
   "cell_type": "markdown",
   "id": "7a93375d-f454-4cbf-8a9d-a7e4e87d3c5a",
   "metadata": {},
   "source": [
    "## PDFminer"
   ]
  },
  {
   "cell_type": "code",
   "execution_count": 20,
   "id": "97b73378-6d3b-4414-90d0-19ae4f14ce32",
   "metadata": {},
   "outputs": [
    {
     "name": "stdout",
     "output_type": "stream",
     "text": [
      "<class 'str'>\n",
      " Folklore 125 (Aprii 2014): 80-91\n",
      "\n",
      " http://dx.doi.org/l0.1080/0015587X.2013.853516\n",
      "\n",
      " RESEARCH ARTICLE\n"
     ]
    }
   ],
   "source": [
    "from pdfminer.high_level import extract_text\n",
    "\n",
    "text = extract_text(\"cowdell.pdf\")\n",
    "\n",
    "print(type(text))\n",
    "print(text[0:101])"
   ]
  },
  {
   "cell_type": "code",
   "execution_count": 17,
   "id": "5e707658-e6e0-466b-a4d0-400cbcfadfd6",
   "metadata": {},
   "outputs": [],
   "source": [
    "from io import StringIO\n",
    "from pdfminer.high_level import extract_text_to_fp\n",
    "from pdfminer.layout import LAParams\n",
    "\n",
    "output_string = StringIO()\n",
    "\n",
    "with open('cowdell.pdf', 'rb') as fin:\n",
    "    extract_text_to_fp(fin, output_string, laparams=LAParams(),\n",
    "                       output_type='html', codec=None)"
   ]
  },
  {
   "cell_type": "code",
   "execution_count": 18,
   "id": "f87c5ec7-e0f5-451e-b994-77f3f49798cc",
   "metadata": {},
   "outputs": [
    {
     "name": "stdout",
     "output_type": "stream",
     "text": [
      "<html><head>\n",
      "<meta http-equiv=\"Content-Type\" content=\"text/html\">\n",
      "</head><body>\n",
      "<span style=\"positio\n"
     ]
    }
   ],
   "source": [
    "print(output_string.getvalue()[0:100])"
   ]
  },
  {
   "cell_type": "code",
   "execution_count": 55,
   "id": "913d26de-72d2-451f-84de-0f8f724e79c3",
   "metadata": {},
   "outputs": [],
   "source": [
    "from io import StringIO\n",
    "\n",
    "from pdfminer.converter import TextConverter\n",
    "from pdfminer.layout import LAParams\n",
    "from pdfminer.pdfinterp import PDFResourceManager, PDFPageInterpreter\n",
    "from pdfminer.pdfpage import PDFPage\n",
    "from pdfminer.utils import open_filename\n",
    "\n",
    "\n",
    "def iter_text_per_page(pdf_file, password='', page_numbers=None, maxpages=0,\n",
    "                 caching=True, codec='utf-8', laparams=None):\n",
    "    if laparams is None:\n",
    "        laparams = LAParams()\n",
    "\n",
    "    with open_filename(pdf_file, \"rb\") as fp:\n",
    "        rsrcmgr = PDFResourceManager(caching=caching)\n",
    "\n",
    "        idx = 1\n",
    "        for page in PDFPage.get_pages(\n",
    "                fp,\n",
    "                page_numbers,\n",
    "                maxpages=maxpages,\n",
    "                password=password,\n",
    "                caching=caching,\n",
    "        ):\n",
    "            with StringIO() as output_string:\n",
    "                device = TextConverter(rsrcmgr, output_string, codec=codec,\n",
    "                                       laparams=laparams)\n",
    "                interpreter = PDFPageInterpreter(rsrcmgr, device)\n",
    "                interpreter.process_page(page)\n",
    "                yield idx, output_string.getvalue()\n",
    "                idx += 1"
   ]
  },
  {
   "cell_type": "code",
   "execution_count": null,
   "id": "e6c52e17-8968-40ae-bd3e-e2149e316536",
   "metadata": {},
   "outputs": [],
   "source": [
    "cowdell_pages = iter_text_per_page(\"cowdell.pdf\")\n",
    "cowdells = list(cowdell_pages)\n",
    "\n",
    "# for page in cowdells[10]:\n",
    "#     print(type(page), page)"
   ]
  },
  {
   "cell_type": "markdown",
   "id": "b5a06153-d0d8-47ed-ab0f-d5b1dfd2b9cc",
   "metadata": {},
   "source": [
    "## Data into Dataframe"
   ]
  },
  {
   "cell_type": "code",
   "execution_count": 65,
   "id": "820abe80-99d2-4950-a911-26a9ac23043e",
   "metadata": {},
   "outputs": [],
   "source": [
    "import pandas as pd"
   ]
  },
  {
   "cell_type": "code",
   "execution_count": 66,
   "id": "2ac121a2-186e-43e1-9a80-b4fd7d3563b6",
   "metadata": {},
   "outputs": [
    {
     "data": {
      "text/html": [
       "<div>\n",
       "<style scoped>\n",
       "    .dataframe tbody tr th:only-of-type {\n",
       "        vertical-align: middle;\n",
       "    }\n",
       "\n",
       "    .dataframe tbody tr th {\n",
       "        vertical-align: top;\n",
       "    }\n",
       "\n",
       "    .dataframe thead th {\n",
       "        text-align: right;\n",
       "    }\n",
       "</style>\n",
       "<table border=\"1\" class=\"dataframe\">\n",
       "  <thead>\n",
       "    <tr style=\"text-align: right;\">\n",
       "      <th></th>\n",
       "      <th>page</th>\n",
       "      <th>text</th>\n",
       "    </tr>\n",
       "  </thead>\n",
       "  <tbody>\n",
       "    <tr>\n",
       "      <th>0</th>\n",
       "      <td>1</td>\n",
       "      <td>Folklore 125 (Aprii 2014): 80-91\\n\\n http://d...</td>\n",
       "    </tr>\n",
       "    <tr>\n",
       "      <th>1</th>\n",
       "      <td>2</td>\n",
       "      <td>Ghosts and their Relationship with the Age of...</td>\n",
       "    </tr>\n",
       "    <tr>\n",
       "      <th>2</th>\n",
       "      <td>3</td>\n",
       "      <td>82 Paul Cowdell\\n\\n tendency- possibly even a...</td>\n",
       "    </tr>\n",
       "    <tr>\n",
       "      <th>3</th>\n",
       "      <td>4</td>\n",
       "      <td>Ghosts and their Relationship with the Age of...</td>\n",
       "    </tr>\n",
       "    <tr>\n",
       "      <th>4</th>\n",
       "      <td>5</td>\n",
       "      <td>84 Paul Cowdell\\n\\n not. She remained very in...</td>\n",
       "    </tr>\n",
       "  </tbody>\n",
       "</table>\n",
       "</div>"
      ],
      "text/plain": [
       "   page                                               text\n",
       "0     1   Folklore 125 (Aprii 2014): 80-91\\n\\n http://d...\n",
       "1     2   Ghosts and their Relationship with the Age of...\n",
       "2     3   82 Paul Cowdell\\n\\n tendency- possibly even a...\n",
       "3     4   Ghosts and their Relationship with the Age of...\n",
       "4     5   84 Paul Cowdell\\n\\n not. She remained very in..."
      ]
     },
     "execution_count": 66,
     "metadata": {},
     "output_type": "execute_result"
    }
   ],
   "source": [
    "df = pd.DataFrame(cowdells, columns =['page', 'text'])\n",
    "df.head()"
   ]
  },
  {
   "cell_type": "code",
   "execution_count": 67,
   "id": "14af8e59-32ea-48ab-a282-5fecc12ae0de",
   "metadata": {},
   "outputs": [
    {
     "name": "stdout",
     "output_type": "stream",
     "text": [
      "CPU times: user 7 µs, sys: 1e+03 ns, total: 8 µs\n",
      "Wall time: 11.9 µs\n"
     ]
    }
   ],
   "source": [
    "%%time\n",
    "\n",
    "document = iter_text_per_page(\"2025.pdf\")"
   ]
  },
  {
   "cell_type": "code",
   "execution_count": 68,
   "id": "da545edc-613d-4b90-82e8-c1eab28c2657",
   "metadata": {},
   "outputs": [
    {
     "data": {
      "text/html": [
       "<div>\n",
       "<style scoped>\n",
       "    .dataframe tbody tr th:only-of-type {\n",
       "        vertical-align: middle;\n",
       "    }\n",
       "\n",
       "    .dataframe tbody tr th {\n",
       "        vertical-align: top;\n",
       "    }\n",
       "\n",
       "    .dataframe thead th {\n",
       "        text-align: right;\n",
       "    }\n",
       "</style>\n",
       "<table border=\"1\" class=\"dataframe\">\n",
       "  <thead>\n",
       "    <tr style=\"text-align: right;\">\n",
       "      <th></th>\n",
       "      <th>page</th>\n",
       "      <th>text</th>\n",
       "    </tr>\n",
       "  </thead>\n",
       "  <tbody>\n",
       "    <tr>\n",
       "      <th>0</th>\n",
       "      <td>1</td>\n",
       "      <td>Project 2025\\n\\nPRESIDENTIAL  TRANSITION  PROJ...</td>\n",
       "    </tr>\n",
       "    <tr>\n",
       "      <th>1</th>\n",
       "      <td>2</td>\n",
       "      <td>© 2023 by The Heritage Foundation\\n214 Massach...</td>\n",
       "    </tr>\n",
       "    <tr>\n",
       "      <th>2</th>\n",
       "      <td>3</td>\n",
       "      <td>Foreword by Kevin D. Roberts, PhD\\nEdited by P...</td>\n",
       "    </tr>\n",
       "    <tr>\n",
       "      <th>3</th>\n",
       "      <td>4</td>\n",
       "      <td>\\n</td>\n",
       "    </tr>\n",
       "    <tr>\n",
       "      <th>4</th>\n",
       "      <td>5</td>\n",
       "      <td>Contents\\n\\nACKNOWLEDGMENTS. . . . . . . . . ....</td>\n",
       "    </tr>\n",
       "  </tbody>\n",
       "</table>\n",
       "</div>"
      ],
      "text/plain": [
       "   page                                               text\n",
       "0     1  Project 2025\\n\\nPRESIDENTIAL  TRANSITION  PROJ...\n",
       "1     2  © 2023 by The Heritage Foundation\\n214 Massach...\n",
       "2     3  Foreword by Kevin D. Roberts, PhD\\nEdited by P...\n",
       "3     4                                                \\n\n",
       "\n",
       "4     5  Contents\\n\\nACKNOWLEDGMENTS. . . . . . . . . ...."
      ]
     },
     "execution_count": 68,
     "metadata": {},
     "output_type": "execute_result"
    }
   ],
   "source": [
    "pages = list(document)\n",
    "df = pd.DataFrame(pages, columns =['page', 'text'])\n",
    "print(df.shape)\n",
    "print(df.head())"
   ]
  },
  {
   "cell_type": "code",
   "execution_count": 71,
   "id": "5e234fba-8469-42d6-95b7-6a749c4d27b5",
   "metadata": {},
   "outputs": [],
   "source": [
    "# Replace all newline characters with spaces. \n",
    "df['text'] = df['text'].str.replace('\\n',' ')"
   ]
  },
  {
   "cell_type": "code",
   "execution_count": 72,
   "id": "dd847d28-383c-433d-925f-c891db1c5d2b",
   "metadata": {},
   "outputs": [
    {
     "data": {
      "text/html": [
       "<div>\n",
       "<style scoped>\n",
       "    .dataframe tbody tr th:only-of-type {\n",
       "        vertical-align: middle;\n",
       "    }\n",
       "\n",
       "    .dataframe tbody tr th {\n",
       "        vertical-align: top;\n",
       "    }\n",
       "\n",
       "    .dataframe thead th {\n",
       "        text-align: right;\n",
       "    }\n",
       "</style>\n",
       "<table border=\"1\" class=\"dataframe\">\n",
       "  <thead>\n",
       "    <tr style=\"text-align: right;\">\n",
       "      <th></th>\n",
       "      <th>page</th>\n",
       "      <th>text</th>\n",
       "    </tr>\n",
       "  </thead>\n",
       "  <tbody>\n",
       "    <tr>\n",
       "      <th>0</th>\n",
       "      <td>1</td>\n",
       "      <td>Project 2025  PRESIDENTIAL  TRANSITION  PROJEC...</td>\n",
       "    </tr>\n",
       "    <tr>\n",
       "      <th>1</th>\n",
       "      <td>2</td>\n",
       "      <td>© 2023 by The Heritage Foundation 214 Massachu...</td>\n",
       "    </tr>\n",
       "    <tr>\n",
       "      <th>2</th>\n",
       "      <td>3</td>\n",
       "      <td>Foreword by Kevin D. Roberts, PhD Edited by Pa...</td>\n",
       "    </tr>\n",
       "    <tr>\n",
       "      <th>3</th>\n",
       "      <td>4</td>\n",
       "      <td></td>\n",
       "    </tr>\n",
       "    <tr>\n",
       "      <th>4</th>\n",
       "      <td>5</td>\n",
       "      <td>Contents  ACKNOWLEDGMENTS. . . . . . . . . . ....</td>\n",
       "    </tr>\n",
       "  </tbody>\n",
       "</table>\n",
       "</div>"
      ],
      "text/plain": [
       "   page                                               text\n",
       "0     1  Project 2025  PRESIDENTIAL  TRANSITION  PROJEC...\n",
       "1     2  © 2023 by The Heritage Foundation 214 Massachu...\n",
       "2     3  Foreword by Kevin D. Roberts, PhD Edited by Pa...\n",
       "3     4                                                  \n",
       "\n",
       "4     5  Contents  ACKNOWLEDGMENTS. . . . . . . . . . ...."
      ]
     },
     "execution_count": 72,
     "metadata": {},
     "output_type": "execute_result"
    }
   ],
   "source": [
    "df.head()"
   ]
  },
  {
   "cell_type": "code",
   "execution_count": 73,
   "id": "9dcf0815-53ec-4407-99da-6d07cb9e66af",
   "metadata": {},
   "outputs": [],
   "source": [
    "# df.to_csv(\"2025.csv\")"
   ]
  },
  {
   "cell_type": "code",
   "execution_count": null,
   "id": "eb0c5bfb-08c8-41f8-9979-81335c931fb8",
   "metadata": {},
   "outputs": [],
   "source": []
  }
 ],
 "metadata": {
  "kernelspec": {
   "display_name": "Python 3 (ipykernel)",
   "language": "python",
   "name": "python3"
  },
  "language_info": {
   "codemirror_mode": {
    "name": "ipython",
    "version": 3
   },
   "file_extension": ".py",
   "mimetype": "text/x-python",
   "name": "python",
   "nbconvert_exporter": "python",
   "pygments_lexer": "ipython3",
   "version": "3.11.7"
  }
 },
 "nbformat": 4,
 "nbformat_minor": 5
}
